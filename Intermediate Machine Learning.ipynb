{
 "cells": [
  {
   "cell_type": "markdown",
   "metadata": {},
   "source": [
    "<h3><b> Kaggle: Intermediate Machine Learning </b></h3>"
   ]
  },
  {
   "cell_type": "markdown",
   "metadata": {},
   "source": [
    "Dummy dataframe and train/valuation segmentation:"
   ]
  },
  {
   "cell_type": "code",
   "execution_count": null,
   "metadata": {},
   "outputs": [],
   "source": [
    "import numpy as np\n",
    "import pandas as pd\n",
    "from sklearn.model_selection import train_test_split\n",
    "\n",
    "df = pd.read_csv(\"file_name.csv\")\n",
    "y = df.\"predictor_col_name\"      \n",
    "exp_rows = [\"col_name1\", \"col_name2\", ...]\n",
    "X = df[exp_rows]\n",
    "train_X, val_X, train_y, val_y = train_test_split(X, y, random_state = 0)"
   ]
  },
  {
   "cell_type": "markdown",
   "metadata": {},
   "source": [
    "<b> Chapter 2: Missing Values </b>"
   ]
  },
  {
   "cell_type": "markdown",
   "metadata": {},
   "source": [
    "Approaches to missing values:\n",
    "1. Drop columns\n",
    "2. Imputation (Replace with values: mean, median etc...)\n",
    "3. Imputation with new binary column suggesting missing value"
   ]
  },
  {
   "cell_type": "code",
   "execution_count": null,
   "metadata": {},
   "outputs": [],
   "source": [
    "# Libraries\n",
    "from sklearn.ensemble import RandomForestRegressor\n",
    "from sklearn.metrics import mean_absolute_error \n",
    "from sklearn.impute import SimpleImputer\n",
    "\n",
    "# Function returning error size of models\n",
    "def score_dataset(train_X, val_X, train_y, val_y):\n",
    "    model = RandomForestRegressor(n_estimators = 10, random_state = 0)\n",
    "    model.fit(train_X, train_y)\n",
    "    preds = model.predict(val_X)\n",
    "    return mean_absolute_error(val_y, preds) # Can replace MAE with other types of error metric\n",
    "\n",
    "# 1. Dropping columns\n",
    "cols_with_missing = [col for col in train_X.columns\n",
    "                     if train_X[col].isnull().any()]\n",
    "reduced_train_X = train_X.drop(cols_with_missing, axis = 1)\n",
    "reduced_val_X = val_X.drop(cols_with_missing, axis = 1)\n",
    "\n",
    "# 2. Imputation\n",
    "my_imputer = SimpleImputer()\n",
    "imputed_train_X = pd.DataFrame(my_imputer.fit_transform(train_X))\n",
    "imputed_val_X = pd.DataFrame(my_imputer.transform(val_X))\n",
    "imputed_train_X.columns = train_X.columns    # Put back column names\n",
    "imputed_val_X.columns = val_X.columns\n",
    "\n",
    "# 3. Imputation with dummy missing column\n",
    "train_X_plus = train_X.copy()\n",
    "val_X_plus = val_X.copy()\n",
    "for col in cols_with_missing:                # For making new dummy columns\n",
    "    train_X_plus[col + '_was_missing'] = train_X_plus[col].isnull()\n",
    "    val_X_plus[col + '_was_missing'] = val_X_plus[col].isnull()\n",
    "\n",
    "my_imputer = SimpleImputer()\n",
    "imputed_train_X_plus = pd.DataFrame(my_imputer.fit_transform(train_X_plus))\n",
    "imputed_val_X_plus = pd.DataFrame(my_imputer.transform(val_X_plus))\n",
    "imputed_train_X_plus.columns = train_X_plus.columns\n",
    "imputed_val_X_plus.columns = val_X_plus.columns"
   ]
  },
  {
   "cell_type": "markdown",
   "metadata": {},
   "source": [
    "<b> Chapter 3: Categorical Variables </b>"
   ]
  },
  {
   "cell_type": "markdown",
   "metadata": {},
   "source": [
    "Approaches to categorical variables:\n",
    "1. Drop variables\n",
    "2. Ordinal encoding\n",
    "3. One-Hot encoding (n binary cols for n categories)"
   ]
  },
  {
   "cell_type": "code",
   "execution_count": null,
   "metadata": {},
   "outputs": [],
   "source": [
    "# Libraries\n",
    "from sklearn.preprocessing import OrdinalEncoder\n",
    "from sklearn.preprocessing import OneHotEncoder\n",
    "\n",
    "# Get list of categorical variables\n",
    "object_cols = [col for col in train_X.columns if train_X[col].dtype == \"object\"]    \n",
    "\n",
    "# 1. Drop categorical variables\n",
    "drop_train_X = train_X.select_dtypes(exclude = ['object'])\n",
    "drop_val_X = val_X.select_dtypes(exclude = ['object'])\n",
    "\n",
    "# 2. Ordinal encoding \n",
    "label_train_X = train_X.copy()\n",
    "label_val_X = val_X.copy()\n",
    "ordinal_encoder = OrdinalEncoder()\n",
    "\n",
    "# Ordinal encoding will output error if column names if train data doesnt equal validation data\n",
    "# Only use repeated columns in both train and validation set\n",
    "good_label_cols = [col for col in object_cols if set(val_X[col]).issubset(set(train_X[col]))]\n",
    "bad_label_cols = list(set(object_cols) - set(good_label_cols))  # Problematic columns, will be dropped\n",
    "\n",
    "label_train_X = train_X.drop(bad_label_cols, axis=1)            # Drop problematic columns\n",
    "label_val_X = val_X.drop(bad_label_cols, axis=1)\n",
    "label_train_X[good_label_cols] = ordinal_encoder.fit_transform(train_X[good_label_cols])\n",
    "label_val_X[good_label_cols] = ordinal_encoder.transform(val_X[good_label_cols])\n",
    "\n",
    "# 3. One-Hot encoding\n",
    "# Only choose columns with low cardinality (low # of categories), or else size of dataset explodes\n",
    "low_cardinality_cols = [col for col in object_cols if train_X[col].nunique() < 10]\n",
    "high_cardinality_cols = list(set(object_cols) - set(low_cardinality_cols))\n",
    "\n",
    "OH_encoder = OneHotEncoder(handle_unknown='ignore', sparse=False)\n",
    "OH_cols_train = pd.DataFrame(OH_encoder.fit_transform(train_X[low_cardinality_cols]))\n",
    "OH_cols_valid = pd.DataFrame(OH_encoder.transform(val_X[low_cardinality_cols]))\n",
    "\n",
    "OH_cols_train.index = train_X.index                             # Put back column names\n",
    "OH_cols_valid.index = val_X.index\n",
    "\n",
    "num_train_X = train_X.drop(object_cols, axis = 1)               # Remove categorical columns\n",
    "num_val_X = val_X.drop(object_cols, axis = 1)\n",
    "\n",
    "OH_train_X = pd.concat([num_train_X, OH_cols_train], axis = 1)  # Add one-hot encoded columns\n",
    "OH_val_X = pd.concat([num_val_X, OH_cols_valid], axis = 1)\n",
    "\n",
    "OH_train_X.columns = OH_train_X.columns.astype(str)             # Ensure all columns are string dtype\n",
    "OH_val_X.columns = OH_val_X.columns.astype(str)"
   ]
  },
  {
   "cell_type": "markdown",
   "metadata": {},
   "source": [
    "<b> Chapter 4: Pipelines </b>"
   ]
  },
  {
   "cell_type": "markdown",
   "metadata": {},
   "source": [
    "<b> Chapter 5: Cross-Validation </b> "
   ]
  },
  {
   "cell_type": "markdown",
   "metadata": {},
   "source": [
    "<b> Chapter 6: XGBoost </b>"
   ]
  },
  {
   "cell_type": "markdown",
   "metadata": {},
   "source": [
    "<b> Chapter 7: Data Leakage </b>"
   ]
  }
 ],
 "metadata": {
  "kernelspec": {
   "display_name": "Python 3",
   "language": "python",
   "name": "python3"
  },
  "language_info": {
   "codemirror_mode": {
    "name": "ipython",
    "version": 3
   },
   "file_extension": ".py",
   "mimetype": "text/x-python",
   "name": "python",
   "nbconvert_exporter": "python",
   "pygments_lexer": "ipython3",
   "version": "3.12.1"
  }
 },
 "nbformat": 4,
 "nbformat_minor": 2
}
