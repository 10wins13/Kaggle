{
 "cells": [
  {
   "cell_type": "markdown",
   "metadata": {},
   "source": [
    "<h3><b> Kaggle: Intro to SQL </b></h3>"
   ]
  },
  {
   "cell_type": "markdown",
   "metadata": {},
   "source": [
    "<b> Chapter 1: Getting Started with SQL and BigQuery </b>"
   ]
  },
  {
   "cell_type": "markdown",
   "metadata": {},
   "source": [
    "Structured Query Language (SQL): Storing and processing information in a relational database"
   ]
  },
  {
   "cell_type": "code",
   "execution_count": null,
   "metadata": {},
   "outputs": [],
   "source": [
    "# Libraries\n",
    "from google.cloud import bigquery\n",
    "\n",
    "# Initiating client and fetching datasets\n",
    "client = bigquery.Client()                                                      # Create \"Client\" object\n",
    "dataset_ref = client.dataset(\"dataset_name\", project = \"bigquery-public-data\")  # Construct reference to dataset\n",
    "dataset = client.get_dataset(dataset_ref)                                       # API request to get dataset\n",
    "\n",
    "# Dataset --> Tables --> Rows/Columns (Think excel document --> spreadsheets --> rows/cols)\n",
    "# Fetching tables\n",
    "tables = list(client.list_tables(dataset))      # List all tables in dataset\n",
    "for table in tables:                            # Print names of all tables\n",
    "    print(table.table_id)\n",
    "table_ref = dataset_ref.table(\"table_name\")     # Construct reference to table\n",
    "table = client.get_table(table_ref)             # API request to get table\n",
    "\n",
    "# Previewing tables\n",
    "# Outputs name, field type (dtype), mode (\"NULLABLE\"/allow NULL values as default), description\n",
    "table.schema                                    # Print info on all cols in the table\n",
    "# Preview first few lines of the table, converted to pandas dataframe\n",
    "client.list_rows(table, max_results = ...).to_dataframe()   \n",
    "# Specifying columns\n",
    "client.list_rows(table, selected_fields = table.schema[:1], max_results = 5).to_dataframe()"
   ]
  },
  {
   "cell_type": "markdown",
   "metadata": {},
   "source": [
    "<b> Chapter 2: Select, From & Where </b>"
   ]
  },
  {
   "cell_type": "code",
   "execution_count": null,
   "metadata": {},
   "outputs": [],
   "source": [
    "# Input query to specify selected data from a single column\n",
    "query = \"\"\"\n",
    "        SELECT col_name\n",
    "        FROM `datatset-table_name`\n",
    "        WHERE condition (ex. country = \"US\")\n",
    "        \"\"\"\n",
    "\n",
    "client = bigquery.Client()          # Create \"Client\" object\n",
    "query_job = client.query(query)     # Setup query\n",
    "df = query_job.to_dataframe()       # API request to run query, return pandas dataframe\n",
    "\n",
    "# Query modifications\n",
    "query = \"\"\"\n",
    "        SELECT col_name_1, col_name_2, ...                      # Multi-columns\n",
    "        SELECT *                                                # All columns\n",
    "        SELECT DISTINCT col_name                                # Select unique names\n",
    "        FROM `datatset-table_name`\n",
    "        WHERE country = \"US\"\n",
    "        \"\"\"\n",
    "\n",
    "# Estimating query size and running safe configurations\n",
    "# 1MB = 1000^2; 1GB = 1000^3\n",
    "dry_run_config = bigquery.QueryJobConfig(dry_run = True)                # QueryJobConfig to estimate size of query without running\n",
    "dry_run_query_job = client.query(query, job_config = dry_run_config)    # API request\n",
    "safe_config = bigquery.QueryJobConfig(maximum_bytes_billed = ...)       # Only run query when below threshold byte\n",
    "safe_query_job = client.query(query, job_config = safe_config)          # Setup safe config query\n",
    "safe_query_job.to_dataframe()                                           # API request, return pandas dataframe"
   ]
  },
  {
   "cell_type": "markdown",
   "metadata": {},
   "source": [
    "<b> Chapter 3: Group by, Having & Count </b>"
   ]
  },
  {
   "cell_type": "code",
   "execution_count": 2,
   "metadata": {},
   "outputs": [],
   "source": [
    "# COUNT(), same as excel --> Return # of entries in column\n",
    "query = \"\"\"\n",
    "        SELECT COUNT(col_name)\n",
    "        FROM `table_name`\n",
    "        \"\"\"\n",
    "# Aggregate functions: Take many values, returns one (ex. SUM(), AVG(), MIN(), MAX())\n",
    "\n",
    "# GROUPBY: Takes same values in rows as a group\n",
    "query = \"\"\"\n",
    "        SELECT COUNT(col_name)\n",
    "        FROM `table_name`\n",
    "        GROUP BY col_name\n",
    "        \"\"\"\n",
    "\n",
    "# GROUPBY ... HAVING: Add condition to output\n",
    "query = \"\"\"\n",
    "        SELECT COUNT(col_name)\n",
    "        FROM `table_name`\n",
    "        GROUP BY col_name\n",
    "        HAVING condition (ex. COUNT(col_name) > 1)\n",
    "        \"\"\"\n",
    "\n",
    "# Aliasing using AS function\n",
    "query = \"\"\"\n",
    "        SELECT COUNT(col_name) AS new_col_name\n",
    "        SELECT COUNT(1) AS new_col_name         # Alternative: COUNT(1) to count the rows in each group\n",
    "        FROM `table_name`\n",
    "        GROUP BY col_name\n",
    "        HAVING condition (ex. COUNT(col_name) > 1)\n",
    "        \"\"\""
   ]
  },
  {
   "cell_type": "markdown",
   "metadata": {},
   "source": [
    "<b> Chapter 4: Order By </b>"
   ]
  },
  {
   "cell_type": "code",
   "execution_count": null,
   "metadata": {},
   "outputs": [],
   "source": []
  },
  {
   "cell_type": "markdown",
   "metadata": {},
   "source": [
    "<b> Chapter 5: As & With </b>"
   ]
  },
  {
   "cell_type": "markdown",
   "metadata": {},
   "source": [
    "<b> Chapter 6: Joining Data </b>"
   ]
  }
 ],
 "metadata": {
  "kernelspec": {
   "display_name": "Python 3",
   "language": "python",
   "name": "python3"
  },
  "language_info": {
   "codemirror_mode": {
    "name": "ipython",
    "version": 3
   },
   "file_extension": ".py",
   "mimetype": "text/x-python",
   "name": "python",
   "nbconvert_exporter": "python",
   "pygments_lexer": "ipython3",
   "version": "3.12.1"
  }
 },
 "nbformat": 4,
 "nbformat_minor": 2
}
