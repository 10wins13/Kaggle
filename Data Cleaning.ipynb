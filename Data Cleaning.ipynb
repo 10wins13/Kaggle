{
 "cells": [
  {
   "cell_type": "markdown",
   "metadata": {},
   "source": [
    "<h3> Kaggle: Data Cleaning </h3>"
   ]
  },
  {
   "cell_type": "code",
   "execution_count": null,
   "metadata": {},
   "outputs": [],
   "source": [
    "# Downloading all needed libraries\n",
    "!pip3 install numpy\n",
    "!pip3 install pandas\n",
    "!pip3 install scipy\n",
    "!pip3 install seaborn\n",
    "!pip3 install matplotlib\n",
    "!pip3 install datetime\n",
    "!pip3 install preprocessing\n",
    "!pip3 install fuzzywuzzy"
   ]
  },
  {
   "cell_type": "markdown",
   "metadata": {},
   "source": [
    "Chapter 1: Handling Missing Values"
   ]
  },
  {
   "cell_type": "code",
   "execution_count": null,
   "metadata": {},
   "outputs": [],
   "source": [
    "# Libraries\n",
    "import numpy as np\n",
    "import pandas as pd\n",
    " \n",
    "df = pd.read_csv(\"file_name\") # Read csv file\n",
    "\n",
    "# Dataframe dimension\n",
    "df.head()                                         # Return first 5 rows of dataframe\n",
    "df.tail()                                         # Return last 5 rows of dataframe\n",
    "df.shape()                                        # Return dimension of dataframe\n",
    "np.product(df.shape)                              # Return number of cells in dataframe\n",
    "\n",
    "# Clearing null values\n",
    "df.isnull().sum()                                 # Return number of missing data per column\n",
    "df.isnull().sum().sum()                           # Return total number of missing data\n",
    "df.dropna(axis = 0)                               # Drop rows containing missing value\n",
    "df.dropna(axis = 1)                               # Drop columns containing missing value\n",
    "df.fillna(...)                                    # Fill NaN cells with chosen value\n",
    "df.fillna(method = \"bfill\", axis = ...)           # Fill NaN cells with value before them\n",
    "df.fillna(method = \"bfill\", axos = ...).fillna(0) # Fill NaN cells with value before them, then rest of NaN cells to be 0"
   ]
  },
  {
   "cell_type": "markdown",
   "metadata": {},
   "source": [
    "Chapter 2: Scaling & Normalization"
   ]
  },
  {
   "cell_type": "code",
   "execution_count": null,
   "metadata": {},
   "outputs": [],
   "source": [
    "# Libraries\n",
    "from scipy import stats\n",
    "from sklearn.preprocessing import minmax_scale\n",
    "\n",
    "# Scaling: Change range of dataset\n",
    "# Normalization: Change distribution of dataset\n",
    "minmax_scale(df[:...]) # Scales data between 0 and 1\n",
    "stats.boxcox(df)       # Normalizes data"
   ]
  },
  {
   "cell_type": "markdown",
   "metadata": {},
   "source": [
    "Chapter 3: Parsing Dates"
   ]
  },
  {
   "cell_type": "code",
   "execution_count": null,
   "metadata": {},
   "outputs": [],
   "source": [
    "# Libraries\n",
    "import numpy as np\n",
    "import pandas as pd\n",
    "import seaborn as sns\n",
    "import datetime\n",
    "\n",
    "# General\n",
    "df[\"col_name\"].dtype                         # Return data type of column: datetime64 is date dtype, 'O' for object dtype\n",
    "sns.displot(df, ...)                         # Return histogram of dataframe\n",
    "\n",
    "# Parsing dates\n",
    "pd.to_datetime(df[\"col_name\"], format = ...) # Change 'O' dtype --> datetime64 dtype\n",
    "df[\"parsed_date\"].dt.day                     # Select day of the month"
   ]
  },
  {
   "cell_type": "markdown",
   "metadata": {},
   "source": [
    "Chapter 4: Character Encodings"
   ]
  },
  {
   "cell_type": "code",
   "execution_count": null,
   "metadata": {},
   "outputs": [],
   "source": [
    "# Libraries\n",
    "import charset_normalizer\n",
    "\n",
    "# Use the same encoder for decode (encoder could be \"ascii\", \"utf-8\", \"Windows-1252\")\n",
    "type(df) # Check datatype\n",
    "df.encode(\"encoder\", errors = \"replace\") # Change string dtype --> byte dtype\n",
    "df.decode(\"encoder\")                     # Change byte --> string\n",
    "\n",
    "# Return confidence of encoder for text in stdev\n",
    "with open(\"...csv\", 'rb') as rawdata:\n",
    "    result = charset_normalizer.detect(rawdata.read(10000)) "
   ]
  },
  {
   "cell_type": "markdown",
   "metadata": {},
   "source": [
    "Chapter 5: Inconsistent Data Entry"
   ]
  },
  {
   "cell_type": "code",
   "execution_count": null,
   "metadata": {},
   "outputs": [],
   "source": [
    "# Libraries\n",
    "import numpy as np\n",
    "import pandas as pd\n",
    "import fuzzywuzzy\n",
    "from fuzzywuzzy import process\n",
    "import charset_normalizer\n",
    "\n",
    "# General\n",
    "df[\"col_name\"].unique # Return array of unique values of the chosen column\n",
    "df.sort()             # Sort in increasing order\n",
    "\n",
    "# String modification\n",
    "df.str.lower()        # Change string to lowercase\n",
    "df.str.strip()        # Remove trailing whitespaces\n",
    "\n",
    "# Extract similar terms of criteria word\n",
    "fuzzywuzzy.process.extract(\"criteria\", \"col_name\", limit = ...,\n",
    "                           scorer = fuzzywuzzy.fuzz.token_sort_ratio)\n",
    "\n",
    "# Function to replace rows in the column that match the provided string\n",
    "def replace_matches_in_column(df, column, string_to_match, min_ratio = 47):\n",
    "    strings = df[column].unique()\n",
    "    matches = fuzzywuzzy.process.extract(string_to_match, strings, limit = 10, scorer = fuzzywuzzy.fuzz.token_sort_ratio)\n",
    "    close_matches = [matches[0] for matches in matches if matches[1] >= min_ratio]\n",
    "    rows_with_matches = df[column].isin(close_matches)\n",
    "    df.loc[rows_with_matches, column] = string_to_match"
   ]
  }
 ],
 "metadata": {
  "kernelspec": {
   "display_name": "Python 3",
   "language": "python",
   "name": "python3"
  },
  "language_info": {
   "codemirror_mode": {
    "name": "ipython",
    "version": 3
   },
   "file_extension": ".py",
   "mimetype": "text/x-python",
   "name": "python",
   "nbconvert_exporter": "python",
   "pygments_lexer": "ipython3",
   "version": "3.12.1"
  }
 },
 "nbformat": 4,
 "nbformat_minor": 2
}
