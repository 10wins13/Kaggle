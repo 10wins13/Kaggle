{
 "cells": [
  {
   "cell_type": "markdown",
   "id": "d12976c9",
   "metadata": {},
   "source": [
    "<b>Store Sales - Time Series Forecasting EDA</b>"
   ]
  },
  {
   "cell_type": "code",
   "execution_count": 3,
   "id": "0ee20295",
   "metadata": {},
   "outputs": [],
   "source": [
    "import numpy as np\n",
    "import pandas as pd\n",
    "import matplotlib.pyplot as plt"
   ]
  },
  {
   "cell_type": "markdown",
   "id": "ac835600",
   "metadata": {},
   "source": [
    "train.csv"
   ]
  },
  {
   "cell_type": "code",
   "execution_count": null,
   "id": "ba696c51",
   "metadata": {},
   "outputs": [],
   "source": [
    "train = pd.read_csv(\"train.csv\")\n",
    "train.head()"
   ]
  },
  {
   "cell_type": "code",
   "execution_count": 4,
   "id": "87e19a4e",
   "metadata": {},
   "outputs": [
    {
     "name": "stdout",
     "output_type": "stream",
     "text": [
      "(3000888, 6)\n"
     ]
    }
   ],
   "source": [
    "print(train.shape)"
   ]
  },
  {
   "cell_type": "code",
   "execution_count": 27,
   "id": "1f50f86c",
   "metadata": {},
   "outputs": [
    {
     "name": "stdout",
     "output_type": "stream",
     "text": [
      "Dataset from: 2013-01-01 to 2017-08-15\n",
      "\n",
      "33 Families: ['AUTOMOTIVE' 'BABY CARE' 'BEAUTY' 'BEVERAGES' 'BOOKS' 'BREAD/BAKERY'\n",
      " 'CELEBRATION' 'CLEANING' 'DAIRY' 'DELI' 'EGGS' 'FROZEN FOODS' 'GROCERY I'\n",
      " 'GROCERY II' 'HARDWARE' 'HOME AND KITCHEN I' 'HOME AND KITCHEN II'\n",
      " 'HOME APPLIANCES' 'HOME CARE' 'LADIESWEAR' 'LAWN AND GARDEN' 'LINGERIE'\n",
      " 'LIQUOR,WINE,BEER' 'MAGAZINES' 'MEATS' 'PERSONAL CARE' 'PET SUPPLIES'\n",
      " 'PLAYERS AND ELECTRONICS' 'POULTRY' 'PREPARED FOODS' 'PRODUCE'\n",
      " 'SCHOOL AND OFFICE SUPPLIES' 'SEAFOOD']\n",
      "\n",
      "54 Stores\n"
     ]
    }
   ],
   "source": [
    "print(f\"Dataset from: {train[\"date\"].min()} to {train[\"date\"].max()}\\n\")\n",
    "print(f\"{train[\"family\"].nunique()} Families: {np.sort(train[\"family\"].unique())}\\n\")\n",
    "print(f\"{train[\"store_nbr\"].nunique()} Stores\")"
   ]
  },
  {
   "cell_type": "code",
   "execution_count": 11,
   "id": "49b277eb",
   "metadata": {},
   "outputs": [
    {
     "name": "stdout",
     "output_type": "stream",
     "text": [
      "count    3.000888e+06\n",
      "mean     3.577757e+02\n",
      "std      1.101998e+03\n",
      "min      0.000000e+00\n",
      "25%      0.000000e+00\n",
      "50%      1.100000e+01\n",
      "75%      1.958473e+02\n",
      "max      1.247170e+05\n",
      "Name: sales, dtype: float64\n"
     ]
    }
   ],
   "source": [
    "print(train[\"sales\"].describe())"
   ]
  },
  {
   "cell_type": "code",
   "execution_count": 14,
   "id": "00f95d42",
   "metadata": {},
   "outputs": [
    {
     "name": "stdout",
     "output_type": "stream",
     "text": [
      "count    3.000888e+06\n",
      "mean     2.602770e+00\n",
      "std      1.221888e+01\n",
      "min      0.000000e+00\n",
      "25%      0.000000e+00\n",
      "50%      0.000000e+00\n",
      "75%      0.000000e+00\n",
      "max      7.410000e+02\n",
      "Name: onpromotion, dtype: float64\n"
     ]
    }
   ],
   "source": [
    "print(train[\"onpromotion\"].describe())"
   ]
  },
  {
   "cell_type": "code",
   "execution_count": 29,
   "id": "b42ef590",
   "metadata": {},
   "outputs": [
    {
     "data": {
      "text/plain": [
       "[<matplotlib.lines.Line2D at 0x1e056450190>]"
      ]
     },
     "execution_count": 29,
     "metadata": {},
     "output_type": "execute_result"
    },
    {
     "data": {
      "image/png": "[encoded data removed]",
      "text/plain": [
       "<Figure size 640x480 with 1 Axes>"
      ]
     },
     "metadata": {},
     "output_type": "display_data"
    }
   ],
   "source": [
    "plt.plot(train[\"date\"], train[\"sales\"])"
   ]
  },
  {
   "cell_type": "code",
   "execution_count": null,
   "id": "d5bb6711",
   "metadata": {},
   "outputs": [],
   "source": []
  }
 ],
 "metadata": {
  "kernelspec": {
   "display_name": "Python 3",
   "language": "python",
   "name": "python3"
  },
  "language_info": {
   "codemirror_mode": {
    "name": "ipython",
    "version": 3
   },
   "file_extension": ".py",
   "mimetype": "text/x-python",
   "name": "python",
   "nbconvert_exporter": "python",
   "pygments_lexer": "ipython3",
   "version": "3.13.2"
  }
 },
 "nbformat": 4,
 "nbformat_minor": 5
}
