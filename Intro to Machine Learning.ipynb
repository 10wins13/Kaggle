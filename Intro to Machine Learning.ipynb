{
 "cells": [
  {
   "cell_type": "markdown",
   "metadata": {},
   "source": [
    "<h3> Kaggle: Intro to Machine Learning </h3>"
   ]
  },
  {
   "cell_type": "markdown",
   "metadata": {},
   "source": [
    "Chapter 2: Basic Data Exploration"
   ]
  },
  {
   "cell_type": "code",
   "execution_count": 1,
   "metadata": {},
   "outputs": [],
   "source": [
    "# Libraries\n",
    "import pandas as pd\n",
    "\n",
    "# Data summary\n",
    "df = pd.read_csv(\"file_name.csv\")\n",
    "df.describe() # Return count, mean, stdev, 5 point estimate"
   ]
  },
  {
   "cell_type": "markdown",
   "metadata": {},
   "source": [
    "Chapter 3: Your First Machine Learning Model"
   ]
  },
  {
   "cell_type": "code",
   "execution_count": null,
   "metadata": {},
   "outputs": [],
   "source": [
    "# Libraries\n",
    "import pandas as pd\n",
    "from sklearn.tree import DecisionTreeRegressor\n",
    "\n",
    "# Dataframe description/creation\n",
    "df.columns # Return dataframe column names\n",
    "\n",
    "# Creating regression model\n",
    "y = df.\"predictor_col_name\" # Predictor column\n",
    "exp_rows = [\"col_name1\", \"col_name2\", ...] \n",
    "X = df[exp_rows] # Explanatory matrix\n",
    "df_model = DecisionTreeRegressor(random_state = 1) # Regression model with seed 1\n",
    "df_model.fit(X, y) # Model fit\n",
    "df.predict(X) # Prediction of y value given X"
   ]
  },
  {
   "cell_type": "markdown",
   "metadata": {},
   "source": [
    "Steps to building and using a model:\n",
    "1. Define model (regression, classification, ...)\n",
    "2. Fit model\n",
    "3. Predict\n",
    "4. Evaluate accuracy"
   ]
  },
  {
   "cell_type": "markdown",
   "metadata": {},
   "source": [
    "Chapter 4: Model Validation"
   ]
  },
  {
   "cell_type": "code",
   "execution_count": null,
   "metadata": {},
   "outputs": [],
   "source": [
    "# Libraries\n",
    "from sklearn.metrics import mean_absolute_error\n",
    "from sklearn.model_selection import train_test_split\n",
    "\n",
    "predicted_y = df.predict(X)\n",
    "mean_absolute_error(y, predicted_y) # Mean abs error = abs(actual - predicted)\n",
    "train_X, test_X, train_y, test_y = train_test_split(X, y, random_state = 0) # Split dataframe to training and testing data"
   ]
  },
  {
   "cell_type": "markdown",
   "metadata": {},
   "source": [
    "Chapter 5: Underfitting and Overfitting"
   ]
  },
  {
   "cell_type": "markdown",
   "metadata": {},
   "source": [
    "Chapter 6: Random Forests"
   ]
  },
  {
   "cell_type": "markdown",
   "metadata": {},
   "source": [
    "Chapter 7: Machine Learning Competitions"
   ]
  }
 ],
 "metadata": {
  "kernelspec": {
   "display_name": "Python 3",
   "language": "python",
   "name": "python3"
  },
  "language_info": {
   "codemirror_mode": {
    "name": "ipython",
    "version": 3
   },
   "file_extension": ".py",
   "mimetype": "text/x-python",
   "name": "python",
   "nbconvert_exporter": "python",
   "pygments_lexer": "ipython3",
   "version": "3.12.1"
  }
 },
 "nbformat": 4,
 "nbformat_minor": 2
}
